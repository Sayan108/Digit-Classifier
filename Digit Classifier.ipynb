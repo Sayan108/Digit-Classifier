{
 "cells": [
  {
   "cell_type": "code",
   "execution_count": 1,
   "id": "3e6b7672",
   "metadata": {},
   "outputs": [],
   "source": [
    "import numpy as np\n",
    "import pandas as pd\n",
    "import matplotlib as mpl\n",
    "import tensorflow as tf\n",
    "from tensorflow import keras"
   ]
  },
  {
   "cell_type": "code",
   "execution_count": 2,
   "id": "8c4b6957",
   "metadata": {},
   "outputs": [],
   "source": [
    "%matplotlib inline\n",
    "import matplotlib.pyplot as plt"
   ]
  },
  {
   "cell_type": "code",
   "execution_count": 3,
   "id": "fa14cf43",
   "metadata": {},
   "outputs": [],
   "source": [
    "digit_mnist=keras.datasets.mnist"
   ]
  },
  {
   "cell_type": "code",
   "execution_count": 4,
   "id": "1add4ea4",
   "metadata": {},
   "outputs": [
    {
     "data": {
      "text/plain": [
       "<module 'keras.api._v2.keras.datasets.mnist' from 'C:\\\\Users\\\\banty_ewxe1fw\\\\AppData\\\\Roaming\\\\Python\\\\Python39\\\\site-packages\\\\keras\\\\api\\\\_v2\\\\keras\\\\datasets\\\\mnist\\\\__init__.py'>"
      ]
     },
     "execution_count": 4,
     "metadata": {},
     "output_type": "execute_result"
    }
   ],
   "source": [
    "digit_mnist"
   ]
  },
  {
   "cell_type": "code",
   "execution_count": 7,
   "id": "6db510bf",
   "metadata": {},
   "outputs": [
    {
     "name": "stdout",
     "output_type": "stream",
     "text": [
      "Downloading data from https://storage.googleapis.com/tensorflow/tf-keras-datasets/mnist.npz\n",
      "11490434/11490434 [==============================] - 32s 3us/step\n"
     ]
    }
   ],
   "source": [
    "digit_mnist=keras.datasets.mnist\n",
    "(x_train_full,y_train_full),(x_test,y_test)=digit_mnist.load_data()"
   ]
  },
  {
   "cell_type": "code",
   "execution_count": 8,
   "id": "b42f0403",
   "metadata": {},
   "outputs": [
    {
     "data": {
      "text/plain": [
       "<matplotlib.image.AxesImage at 0x262bfb3e190>"
      ]
     },
     "execution_count": 8,
     "metadata": {},
     "output_type": "execute_result"
    },
    {
     "data": {
      "image/png": "[encoded data removed]",
      "text/plain": [
       "<Figure size 432x288 with 1 Axes>"
      ]
     },
     "metadata": {
      "needs_background": "light"
     },
     "output_type": "display_data"
    }
   ],
   "source": [
    "plt.imshow(x_train_full[0])"
   ]
  },
  {
   "cell_type": "code",
   "execution_count": 9,
   "id": "77bc0f99",
   "metadata": {},
   "outputs": [
    {
     "data": {
      "text/plain": [
       "5"
      ]
     },
     "execution_count": 9,
     "metadata": {},
     "output_type": "execute_result"
    }
   ],
   "source": [
    "y_train_full[0]"
   ]
  },
  {
   "cell_type": "code",
   "execution_count": 10,
   "id": "baff7997",
   "metadata": {},
   "outputs": [],
   "source": [
    "class_names=[\"0\",\"1\",\"2\",\"3\",\"4\",\"5\",\"6\",\"7\",\"8\",\"9\"]"
   ]
  },
  {
   "cell_type": "code",
   "execution_count": 12,
   "id": "49afcfbb",
   "metadata": {},
   "outputs": [
    {
     "data": {
      "text/plain": [
       "'5'"
      ]
     },
     "execution_count": 12,
     "metadata": {},
     "output_type": "execute_result"
    }
   ],
   "source": [
    "class_names[y_train_full[0]]"
   ]
  },
  {
   "cell_type": "code",
   "execution_count": 13,
   "id": "ef9f4da1",
   "metadata": {},
   "outputs": [
    {
     "data": {
      "text/plain": [
       "array([[  0,   0,   0,   0,   0,   0,   0,   0,   0,   0,   0,   0,   0,\n",
       "          0,   0,   0,   0,   0,   0,   0,   0,   0,   0,   0,   0,   0,\n",
       "          0,   0],\n",
       "       [  0,   0,   0,   0,   0,   0,   0,   0,   0,   0,   0,   0,   0,\n",
       "          0,   0,   0,   0,   0,   0,   0,   0,   0,   0,   0,   0,   0,\n",
       "          0,   0],\n",
       "       [  0,   0,   0,   0,   0,   0,   0,   0,   0,   0,   0,   0,   0,\n",
       "          0,   0,   0,   0,   0,   0,   0,   0,   0,   0,   0,   0,   0,\n",
       "          0,   0],\n",
       "       [  0,   0,   0,   0,   0,   0,   0,   0,   0,   0,   0,   0,   0,\n",
       "          0,   0,   0,   0,   0,   0,   0,   0,   0,   0,   0,   0,   0,\n",
       "          0,   0],\n",
       "       [  0,   0,   0,   0,   0,   0,   0,   0,   0,   0,   0,   0,   0,\n",
       "          0,   0,  51, 159, 253, 159,  50,   0,   0,   0,   0,   0,   0,\n",
       "          0,   0],\n",
       "       [  0,   0,   0,   0,   0,   0,   0,   0,   0,   0,   0,   0,   0,\n",
       "          0,  48, 238, 252, 252, 252, 237,   0,   0,   0,   0,   0,   0,\n",
       "          0,   0],\n",
       "       [  0,   0,   0,   0,   0,   0,   0,   0,   0,   0,   0,   0,   0,\n",
       "         54, 227, 253, 252, 239, 233, 252,  57,   6,   0,   0,   0,   0,\n",
       "          0,   0],\n",
       "       [  0,   0,   0,   0,   0,   0,   0,   0,   0,   0,   0,  10,  60,\n",
       "        224, 252, 253, 252, 202,  84, 252, 253, 122,   0,   0,   0,   0,\n",
       "          0,   0],\n",
       "       [  0,   0,   0,   0,   0,   0,   0,   0,   0,   0,   0, 163, 252,\n",
       "        252, 252, 253, 252, 252,  96, 189, 253, 167,   0,   0,   0,   0,\n",
       "          0,   0],\n",
       "       [  0,   0,   0,   0,   0,   0,   0,   0,   0,   0,  51, 238, 253,\n",
       "        253, 190, 114, 253, 228,  47,  79, 255, 168,   0,   0,   0,   0,\n",
       "          0,   0],\n",
       "       [  0,   0,   0,   0,   0,   0,   0,   0,   0,  48, 238, 252, 252,\n",
       "        179,  12,  75, 121,  21,   0,   0, 253, 243,  50,   0,   0,   0,\n",
       "          0,   0],\n",
       "       [  0,   0,   0,   0,   0,   0,   0,   0,  38, 165, 253, 233, 208,\n",
       "         84,   0,   0,   0,   0,   0,   0, 253, 252, 165,   0,   0,   0,\n",
       "          0,   0],\n",
       "       [  0,   0,   0,   0,   0,   0,   0,   7, 178, 252, 240,  71,  19,\n",
       "         28,   0,   0,   0,   0,   0,   0, 253, 252, 195,   0,   0,   0,\n",
       "          0,   0],\n",
       "       [  0,   0,   0,   0,   0,   0,   0,  57, 252, 252,  63,   0,   0,\n",
       "          0,   0,   0,   0,   0,   0,   0, 253, 252, 195,   0,   0,   0,\n",
       "          0,   0],\n",
       "       [  0,   0,   0,   0,   0,   0,   0, 198, 253, 190,   0,   0,   0,\n",
       "          0,   0,   0,   0,   0,   0,   0, 255, 253, 196,   0,   0,   0,\n",
       "          0,   0],\n",
       "       [  0,   0,   0,   0,   0,   0,  76, 246, 252, 112,   0,   0,   0,\n",
       "          0,   0,   0,   0,   0,   0,   0, 253, 252, 148,   0,   0,   0,\n",
       "          0,   0],\n",
       "       [  0,   0,   0,   0,   0,   0,  85, 252, 230,  25,   0,   0,   0,\n",
       "          0,   0,   0,   0,   0,   7, 135, 253, 186,  12,   0,   0,   0,\n",
       "          0,   0],\n",
       "       [  0,   0,   0,   0,   0,   0,  85, 252, 223,   0,   0,   0,   0,\n",
       "          0,   0,   0,   0,   7, 131, 252, 225,  71,   0,   0,   0,   0,\n",
       "          0,   0],\n",
       "       [  0,   0,   0,   0,   0,   0,  85, 252, 145,   0,   0,   0,   0,\n",
       "          0,   0,   0,  48, 165, 252, 173,   0,   0,   0,   0,   0,   0,\n",
       "          0,   0],\n",
       "       [  0,   0,   0,   0,   0,   0,  86, 253, 225,   0,   0,   0,   0,\n",
       "          0,   0, 114, 238, 253, 162,   0,   0,   0,   0,   0,   0,   0,\n",
       "          0,   0],\n",
       "       [  0,   0,   0,   0,   0,   0,  85, 252, 249, 146,  48,  29,  85,\n",
       "        178, 225, 253, 223, 167,  56,   0,   0,   0,   0,   0,   0,   0,\n",
       "          0,   0],\n",
       "       [  0,   0,   0,   0,   0,   0,  85, 252, 252, 252, 229, 215, 252,\n",
       "        252, 252, 196, 130,   0,   0,   0,   0,   0,   0,   0,   0,   0,\n",
       "          0,   0],\n",
       "       [  0,   0,   0,   0,   0,   0,  28, 199, 252, 252, 253, 252, 252,\n",
       "        233, 145,   0,   0,   0,   0,   0,   0,   0,   0,   0,   0,   0,\n",
       "          0,   0],\n",
       "       [  0,   0,   0,   0,   0,   0,   0,  25, 128, 252, 253, 252, 141,\n",
       "         37,   0,   0,   0,   0,   0,   0,   0,   0,   0,   0,   0,   0,\n",
       "          0,   0],\n",
       "       [  0,   0,   0,   0,   0,   0,   0,   0,   0,   0,   0,   0,   0,\n",
       "          0,   0,   0,   0,   0,   0,   0,   0,   0,   0,   0,   0,   0,\n",
       "          0,   0],\n",
       "       [  0,   0,   0,   0,   0,   0,   0,   0,   0,   0,   0,   0,   0,\n",
       "          0,   0,   0,   0,   0,   0,   0,   0,   0,   0,   0,   0,   0,\n",
       "          0,   0],\n",
       "       [  0,   0,   0,   0,   0,   0,   0,   0,   0,   0,   0,   0,   0,\n",
       "          0,   0,   0,   0,   0,   0,   0,   0,   0,   0,   0,   0,   0,\n",
       "          0,   0],\n",
       "       [  0,   0,   0,   0,   0,   0,   0,   0,   0,   0,   0,   0,   0,\n",
       "          0,   0,   0,   0,   0,   0,   0,   0,   0,   0,   0,   0,   0,\n",
       "          0,   0]], dtype=uint8)"
      ]
     },
     "execution_count": 13,
     "metadata": {},
     "output_type": "execute_result"
    }
   ],
   "source": [
    "x_train_full[1]"
   ]
  },
  {
   "cell_type": "code",
   "execution_count": 14,
   "id": "cc2c4829",
   "metadata": {},
   "outputs": [],
   "source": [
    "x_train_n=x_train_full/255.\n",
    "x_test_n=x_test/255."
   ]
  },
  {
   "cell_type": "code",
   "execution_count": 15,
   "id": "af0ce278",
   "metadata": {},
   "outputs": [],
   "source": [
    "x_valid,x_train =x_train_n[:6000] , x_train_n[6000:]\n",
    "y_valid,y_train =y_train_full[:6000] , y_train_full[6000:]\n",
    "x_test = x_test_n"
   ]
  },
  {
   "cell_type": "code",
   "execution_count": 16,
   "id": "0d8217d7",
   "metadata": {},
   "outputs": [
    {
     "data": {
      "text/plain": [
       "array([[0.        , 0.        , 0.        , 0.        , 0.        ,\n",
       "        0.        , 0.        , 0.        , 0.        , 0.        ,\n",
       "        0.        , 0.        , 0.        , 0.        , 0.        ,\n",
       "        0.        , 0.        , 0.        , 0.        , 0.        ,\n",
       "        0.        , 0.        , 0.        , 0.        , 0.        ,\n",
       "        0.        , 0.        , 0.        ],\n",
       "       [0.        , 0.        , 0.        , 0.        , 0.        ,\n",
       "        0.        , 0.        , 0.        , 0.        , 0.        ,\n",
       "        0.        , 0.        , 0.        , 0.        , 0.        ,\n",
       "        0.        , 0.        , 0.        , 0.        , 0.        ,\n",
       "        0.        , 0.        , 0.        , 0.        , 0.        ,\n",
       "        0.        , 0.        , 0.        ],\n",
       "       [0.        , 0.        , 0.        , 0.        , 0.        ,\n",
       "        0.        , 0.        , 0.        , 0.        , 0.        ,\n",
       "        0.        , 0.        , 0.        , 0.        , 0.        ,\n",
       "        0.        , 0.        , 0.        , 0.        , 0.        ,\n",
       "        0.        , 0.        , 0.        , 0.        , 0.        ,\n",
       "        0.        , 0.        , 0.        ],\n",
       "       [0.        , 0.        , 0.        , 0.        , 0.        ,\n",
       "        0.        , 0.        , 0.        , 0.        , 0.        ,\n",
       "        0.        , 0.        , 0.        , 0.        , 0.        ,\n",
       "        0.        , 0.        , 0.        , 0.        , 0.        ,\n",
       "        0.        , 0.        , 0.        , 0.        , 0.        ,\n",
       "        0.        , 0.        , 0.        ],\n",
       "       [0.        , 0.        , 0.        , 0.        , 0.        ,\n",
       "        0.        , 0.        , 0.        , 0.        , 0.        ,\n",
       "        0.        , 0.        , 0.        , 0.        , 0.        ,\n",
       "        0.        , 0.        , 0.        , 0.        , 0.        ,\n",
       "        0.        , 0.        , 0.        , 0.        , 0.        ,\n",
       "        0.        , 0.        , 0.        ],\n",
       "       [0.        , 0.        , 0.        , 0.        , 0.        ,\n",
       "        0.        , 0.        , 0.        , 0.        , 0.        ,\n",
       "        0.        , 0.        , 0.01176471, 0.07058824, 0.07058824,\n",
       "        0.07058824, 0.49411765, 0.53333333, 0.68627451, 0.10196078,\n",
       "        0.65098039, 1.        , 0.96862745, 0.49803922, 0.        ,\n",
       "        0.        , 0.        , 0.        ],\n",
       "       [0.        , 0.        , 0.        , 0.        , 0.        ,\n",
       "        0.        , 0.        , 0.        , 0.11764706, 0.14117647,\n",
       "        0.36862745, 0.60392157, 0.66666667, 0.99215686, 0.99215686,\n",
       "        0.99215686, 0.99215686, 0.99215686, 0.88235294, 0.6745098 ,\n",
       "        0.99215686, 0.94901961, 0.76470588, 0.25098039, 0.        ,\n",
       "        0.        , 0.        , 0.        ],\n",
       "       [0.        , 0.        , 0.        , 0.        , 0.        ,\n",
       "        0.        , 0.        , 0.19215686, 0.93333333, 0.99215686,\n",
       "        0.99215686, 0.99215686, 0.99215686, 0.99215686, 0.99215686,\n",
       "        0.99215686, 0.99215686, 0.98431373, 0.36470588, 0.32156863,\n",
       "        0.32156863, 0.21960784, 0.15294118, 0.        , 0.        ,\n",
       "        0.        , 0.        , 0.        ],\n",
       "       [0.        , 0.        , 0.        , 0.        , 0.        ,\n",
       "        0.        , 0.        , 0.07058824, 0.85882353, 0.99215686,\n",
       "        0.99215686, 0.99215686, 0.99215686, 0.99215686, 0.77647059,\n",
       "        0.71372549, 0.96862745, 0.94509804, 0.        , 0.        ,\n",
       "        0.        , 0.        , 0.        , 0.        , 0.        ,\n",
       "        0.        , 0.        , 0.        ],\n",
       "       [0.        , 0.        , 0.        , 0.        , 0.        ,\n",
       "        0.        , 0.        , 0.        , 0.31372549, 0.61176471,\n",
       "        0.41960784, 0.99215686, 0.99215686, 0.80392157, 0.04313725,\n",
       "        0.        , 0.16862745, 0.60392157, 0.        , 0.        ,\n",
       "        0.        , 0.        , 0.        , 0.        , 0.        ,\n",
       "        0.        , 0.        , 0.        ],\n",
       "       [0.        , 0.        , 0.        , 0.        , 0.        ,\n",
       "        0.        , 0.        , 0.        , 0.        , 0.05490196,\n",
       "        0.00392157, 0.60392157, 0.99215686, 0.35294118, 0.        ,\n",
       "        0.        , 0.        , 0.        , 0.        , 0.        ,\n",
       "        0.        , 0.        , 0.        , 0.        , 0.        ,\n",
       "        0.        , 0.        , 0.        ],\n",
       "       [0.        , 0.        , 0.        , 0.        , 0.        ,\n",
       "        0.        , 0.        , 0.        , 0.        , 0.        ,\n",
       "        0.        , 0.54509804, 0.99215686, 0.74509804, 0.00784314,\n",
       "        0.        , 0.        , 0.        , 0.        , 0.        ,\n",
       "        0.        , 0.        , 0.        , 0.        , 0.        ,\n",
       "        0.        , 0.        , 0.        ],\n",
       "       [0.        , 0.        , 0.        , 0.        , 0.        ,\n",
       "        0.        , 0.        , 0.        , 0.        , 0.        ,\n",
       "        0.        , 0.04313725, 0.74509804, 0.99215686, 0.2745098 ,\n",
       "        0.        , 0.        , 0.        , 0.        , 0.        ,\n",
       "        0.        , 0.        , 0.        , 0.        , 0.        ,\n",
       "        0.        , 0.        , 0.        ],\n",
       "       [0.        , 0.        , 0.        , 0.        , 0.        ,\n",
       "        0.        , 0.        , 0.        , 0.        , 0.        ,\n",
       "        0.        , 0.        , 0.1372549 , 0.94509804, 0.88235294,\n",
       "        0.62745098, 0.42352941, 0.00392157, 0.        , 0.        ,\n",
       "        0.        , 0.        , 0.        , 0.        , 0.        ,\n",
       "        0.        , 0.        , 0.        ],\n",
       "       [0.        , 0.        , 0.        , 0.        , 0.        ,\n",
       "        0.        , 0.        , 0.        , 0.        , 0.        ,\n",
       "        0.        , 0.        , 0.        , 0.31764706, 0.94117647,\n",
       "        0.99215686, 0.99215686, 0.46666667, 0.09803922, 0.        ,\n",
       "        0.        , 0.        , 0.        , 0.        , 0.        ,\n",
       "        0.        , 0.        , 0.        ],\n",
       "       [0.        , 0.        , 0.        , 0.        , 0.        ,\n",
       "        0.        , 0.        , 0.        , 0.        , 0.        ,\n",
       "        0.        , 0.        , 0.        , 0.        , 0.17647059,\n",
       "        0.72941176, 0.99215686, 0.99215686, 0.58823529, 0.10588235,\n",
       "        0.        , 0.        , 0.        , 0.        , 0.        ,\n",
       "        0.        , 0.        , 0.        ],\n",
       "       [0.        , 0.        , 0.        , 0.        , 0.        ,\n",
       "        0.        , 0.        , 0.        , 0.        , 0.        ,\n",
       "        0.        , 0.        , 0.        , 0.        , 0.        ,\n",
       "        0.0627451 , 0.36470588, 0.98823529, 0.99215686, 0.73333333,\n",
       "        0.        , 0.        , 0.        , 0.        , 0.        ,\n",
       "        0.        , 0.        , 0.        ],\n",
       "       [0.        , 0.        , 0.        , 0.        , 0.        ,\n",
       "        0.        , 0.        , 0.        , 0.        , 0.        ,\n",
       "        0.        , 0.        , 0.        , 0.        , 0.        ,\n",
       "        0.        , 0.        , 0.97647059, 0.99215686, 0.97647059,\n",
       "        0.25098039, 0.        , 0.        , 0.        , 0.        ,\n",
       "        0.        , 0.        , 0.        ],\n",
       "       [0.        , 0.        , 0.        , 0.        , 0.        ,\n",
       "        0.        , 0.        , 0.        , 0.        , 0.        ,\n",
       "        0.        , 0.        , 0.        , 0.        , 0.18039216,\n",
       "        0.50980392, 0.71764706, 0.99215686, 0.99215686, 0.81176471,\n",
       "        0.00784314, 0.        , 0.        , 0.        , 0.        ,\n",
       "        0.        , 0.        , 0.        ],\n",
       "       [0.        , 0.        , 0.        , 0.        , 0.        ,\n",
       "        0.        , 0.        , 0.        , 0.        , 0.        ,\n",
       "        0.        , 0.        , 0.15294118, 0.58039216, 0.89803922,\n",
       "        0.99215686, 0.99215686, 0.99215686, 0.98039216, 0.71372549,\n",
       "        0.        , 0.        , 0.        , 0.        , 0.        ,\n",
       "        0.        , 0.        , 0.        ],\n",
       "       [0.        , 0.        , 0.        , 0.        , 0.        ,\n",
       "        0.        , 0.        , 0.        , 0.        , 0.        ,\n",
       "        0.09411765, 0.44705882, 0.86666667, 0.99215686, 0.99215686,\n",
       "        0.99215686, 0.99215686, 0.78823529, 0.30588235, 0.        ,\n",
       "        0.        , 0.        , 0.        , 0.        , 0.        ,\n",
       "        0.        , 0.        , 0.        ],\n",
       "       [0.        , 0.        , 0.        , 0.        , 0.        ,\n",
       "        0.        , 0.        , 0.        , 0.09019608, 0.25882353,\n",
       "        0.83529412, 0.99215686, 0.99215686, 0.99215686, 0.99215686,\n",
       "        0.77647059, 0.31764706, 0.00784314, 0.        , 0.        ,\n",
       "        0.        , 0.        , 0.        , 0.        , 0.        ,\n",
       "        0.        , 0.        , 0.        ],\n",
       "       [0.        , 0.        , 0.        , 0.        , 0.        ,\n",
       "        0.        , 0.07058824, 0.67058824, 0.85882353, 0.99215686,\n",
       "        0.99215686, 0.99215686, 0.99215686, 0.76470588, 0.31372549,\n",
       "        0.03529412, 0.        , 0.        , 0.        , 0.        ,\n",
       "        0.        , 0.        , 0.        , 0.        , 0.        ,\n",
       "        0.        , 0.        , 0.        ],\n",
       "       [0.        , 0.        , 0.        , 0.        , 0.21568627,\n",
       "        0.6745098 , 0.88627451, 0.99215686, 0.99215686, 0.99215686,\n",
       "        0.99215686, 0.95686275, 0.52156863, 0.04313725, 0.        ,\n",
       "        0.        , 0.        , 0.        , 0.        , 0.        ,\n",
       "        0.        , 0.        , 0.        , 0.        , 0.        ,\n",
       "        0.        , 0.        , 0.        ],\n",
       "       [0.        , 0.        , 0.        , 0.        , 0.53333333,\n",
       "        0.99215686, 0.99215686, 0.99215686, 0.83137255, 0.52941176,\n",
       "        0.51764706, 0.0627451 , 0.        , 0.        , 0.        ,\n",
       "        0.        , 0.        , 0.        , 0.        , 0.        ,\n",
       "        0.        , 0.        , 0.        , 0.        , 0.        ,\n",
       "        0.        , 0.        , 0.        ],\n",
       "       [0.        , 0.        , 0.        , 0.        , 0.        ,\n",
       "        0.        , 0.        , 0.        , 0.        , 0.        ,\n",
       "        0.        , 0.        , 0.        , 0.        , 0.        ,\n",
       "        0.        , 0.        , 0.        , 0.        , 0.        ,\n",
       "        0.        , 0.        , 0.        , 0.        , 0.        ,\n",
       "        0.        , 0.        , 0.        ],\n",
       "       [0.        , 0.        , 0.        , 0.        , 0.        ,\n",
       "        0.        , 0.        , 0.        , 0.        , 0.        ,\n",
       "        0.        , 0.        , 0.        , 0.        , 0.        ,\n",
       "        0.        , 0.        , 0.        , 0.        , 0.        ,\n",
       "        0.        , 0.        , 0.        , 0.        , 0.        ,\n",
       "        0.        , 0.        , 0.        ],\n",
       "       [0.        , 0.        , 0.        , 0.        , 0.        ,\n",
       "        0.        , 0.        , 0.        , 0.        , 0.        ,\n",
       "        0.        , 0.        , 0.        , 0.        , 0.        ,\n",
       "        0.        , 0.        , 0.        , 0.        , 0.        ,\n",
       "        0.        , 0.        , 0.        , 0.        , 0.        ,\n",
       "        0.        , 0.        , 0.        ]])"
      ]
     },
     "execution_count": 16,
     "metadata": {},
     "output_type": "execute_result"
    }
   ],
   "source": [
    "x_valid[0]"
   ]
  },
  {
   "cell_type": "code",
   "execution_count": 17,
   "id": "7787d014",
   "metadata": {},
   "outputs": [],
   "source": [
    "np.random.seed(42)\n",
    "tf.random.set_seed(42)"
   ]
  },
  {
   "cell_type": "code",
   "execution_count": 18,
   "id": "bbb349e9",
   "metadata": {},
   "outputs": [],
   "source": [
    "model=keras.models.Sequential()\n",
    "model.add(keras.layers.Flatten(input_shape=[28,28]))\n",
    "model.add(keras.layers.Dense(200,activation=\"relu\"))\n",
    "model.add(keras.layers.Dense(100,activation=\"relu\"))\n",
    "model.add(keras.layers.Dense(10,activation=\"softmax\"))"
   ]
  },
  {
   "cell_type": "code",
   "execution_count": 19,
   "id": "ee4abd66",
   "metadata": {},
   "outputs": [
    {
     "name": "stdout",
     "output_type": "stream",
     "text": [
      "Model: \"sequential\"\n",
      "_________________________________________________________________\n",
      " Layer (type)                Output Shape              Param #   \n",
      "=================================================================\n",
      " flatten (Flatten)           (None, 784)               0         \n",
      "                                                                 \n",
      " dense (Dense)               (None, 200)               157000    \n",
      "                                                                 \n",
      " dense_1 (Dense)             (None, 100)               20100     \n",
      "                                                                 \n",
      " dense_2 (Dense)             (None, 10)                1010      \n",
      "                                                                 \n",
      "=================================================================\n",
      "Total params: 178,110\n",
      "Trainable params: 178,110\n",
      "Non-trainable params: 0\n",
      "_________________________________________________________________\n"
     ]
    }
   ],
   "source": [
    "model.summary()"
   ]
  },
  {
   "cell_type": "code",
   "execution_count": 20,
   "id": "bac94018",
   "metadata": {},
   "outputs": [
    {
     "data": {
      "image/png": "[encoded data removed]",
      "text/plain": [
       "<IPython.core.display.Image object>"
      ]
     },
     "execution_count": 20,
     "metadata": {},
     "output_type": "execute_result"
    }
   ],
   "source": [
    "import pydot\n",
    "keras.utils.plot_model(model)"
   ]
  },
  {
   "cell_type": "code",
   "execution_count": 21,
   "id": "92770b63",
   "metadata": {},
   "outputs": [],
   "source": [
    "weights,biases=model.layers[1].get_weights()"
   ]
  },
  {
   "cell_type": "code",
   "execution_count": 22,
   "id": "12b0789e",
   "metadata": {},
   "outputs": [
    {
     "data": {
      "text/plain": [
       "array([[ 0.02570029, -0.00921319, -0.02297589, ...,  0.03759523,\n",
       "         0.01990343, -0.00419658],\n",
       "       [ 0.0493257 ,  0.07532704,  0.04591972, ...,  0.01272719,\n",
       "         0.07017377,  0.06893378],\n",
       "       [-0.00902112,  0.0490617 ,  0.01508749, ...,  0.00632862,\n",
       "        -0.02900814, -0.04371899],\n",
       "       ...,\n",
       "       [ 0.06044598,  0.02830634,  0.04788385, ..., -0.02156743,\n",
       "        -0.06206664, -0.06688078],\n",
       "       [ 0.03822813,  0.07278952,  0.02177001, ..., -0.04696669,\n",
       "        -0.04292265,  0.0316055 ],\n",
       "       [-0.01534326, -0.03178874, -0.04308994, ...,  0.00643031,\n",
       "         0.02572545, -0.03443564]], dtype=float32)"
      ]
     },
     "execution_count": 22,
     "metadata": {},
     "output_type": "execute_result"
    }
   ],
   "source": [
    "weights"
   ]
  },
  {
   "cell_type": "code",
   "execution_count": 23,
   "id": "9822c39f",
   "metadata": {},
   "outputs": [
    {
     "data": {
      "text/plain": [
       "(784, 200)"
      ]
     },
     "execution_count": 23,
     "metadata": {},
     "output_type": "execute_result"
    }
   ],
   "source": [
    "weights.shape"
   ]
  },
  {
   "cell_type": "code",
   "execution_count": 24,
   "id": "3b01278d",
   "metadata": {},
   "outputs": [
    {
     "data": {
      "text/plain": [
       "array([0., 0., 0., 0., 0., 0., 0., 0., 0., 0., 0., 0., 0., 0., 0., 0., 0.,\n",
       "       0., 0., 0., 0., 0., 0., 0., 0., 0., 0., 0., 0., 0., 0., 0., 0., 0.,\n",
       "       0., 0., 0., 0., 0., 0., 0., 0., 0., 0., 0., 0., 0., 0., 0., 0., 0.,\n",
       "       0., 0., 0., 0., 0., 0., 0., 0., 0., 0., 0., 0., 0., 0., 0., 0., 0.,\n",
       "       0., 0., 0., 0., 0., 0., 0., 0., 0., 0., 0., 0., 0., 0., 0., 0., 0.,\n",
       "       0., 0., 0., 0., 0., 0., 0., 0., 0., 0., 0., 0., 0., 0., 0., 0., 0.,\n",
       "       0., 0., 0., 0., 0., 0., 0., 0., 0., 0., 0., 0., 0., 0., 0., 0., 0.,\n",
       "       0., 0., 0., 0., 0., 0., 0., 0., 0., 0., 0., 0., 0., 0., 0., 0., 0.,\n",
       "       0., 0., 0., 0., 0., 0., 0., 0., 0., 0., 0., 0., 0., 0., 0., 0., 0.,\n",
       "       0., 0., 0., 0., 0., 0., 0., 0., 0., 0., 0., 0., 0., 0., 0., 0., 0.,\n",
       "       0., 0., 0., 0., 0., 0., 0., 0., 0., 0., 0., 0., 0., 0., 0., 0., 0.,\n",
       "       0., 0., 0., 0., 0., 0., 0., 0., 0., 0., 0., 0., 0.], dtype=float32)"
      ]
     },
     "execution_count": 24,
     "metadata": {},
     "output_type": "execute_result"
    }
   ],
   "source": [
    "biases"
   ]
  },
  {
   "cell_type": "code",
   "execution_count": 25,
   "id": "fb2f222c",
   "metadata": {},
   "outputs": [
    {
     "data": {
      "text/plain": [
       "(200,)"
      ]
     },
     "execution_count": 25,
     "metadata": {},
     "output_type": "execute_result"
    }
   ],
   "source": [
    "biases.shape"
   ]
  },
  {
   "cell_type": "code",
   "execution_count": 26,
   "id": "ede350fa",
   "metadata": {},
   "outputs": [],
   "source": [
    "model.compile(loss=\"sparse_categorical_crossentropy\" ,\n",
    "             optimizer=\"sgd\",\n",
    "             metrics=[\"accuracy\"])"
   ]
  },
  {
   "cell_type": "code",
   "execution_count": 27,
   "id": "a6d8fa47",
   "metadata": {},
   "outputs": [
    {
     "name": "stdout",
     "output_type": "stream",
     "text": [
      "Epoch 1/60\n",
      "1688/1688 [==============================] - 11s 6ms/step - loss: 0.6607 - accuracy: 0.8267 - val_loss: 0.3216 - val_accuracy: 0.9125\n",
      "Epoch 2/60\n",
      "1688/1688 [==============================] - 5s 3ms/step - loss: 0.3006 - accuracy: 0.9141 - val_loss: 0.2585 - val_accuracy: 0.9283\n",
      "Epoch 3/60\n",
      "1688/1688 [==============================] - 9s 5ms/step - loss: 0.2488 - accuracy: 0.9293 - val_loss: 0.2254 - val_accuracy: 0.9385\n",
      "Epoch 4/60\n",
      "1688/1688 [==============================] - 15s 9ms/step - loss: 0.2151 - accuracy: 0.9390 - val_loss: 0.1961 - val_accuracy: 0.9442\n",
      "Epoch 5/60\n",
      "1688/1688 [==============================] - 15s 9ms/step - loss: 0.1893 - accuracy: 0.9462 - val_loss: 0.1790 - val_accuracy: 0.9485\n",
      "Epoch 6/60\n",
      "1688/1688 [==============================] - 12s 7ms/step - loss: 0.1690 - accuracy: 0.9516 - val_loss: 0.1638 - val_accuracy: 0.9525\n",
      "Epoch 7/60\n",
      "1688/1688 [==============================] - 13s 8ms/step - loss: 0.1521 - accuracy: 0.9570 - val_loss: 0.1483 - val_accuracy: 0.9588\n",
      "Epoch 8/60\n",
      "1688/1688 [==============================] - 15s 9ms/step - loss: 0.1378 - accuracy: 0.9611 - val_loss: 0.1416 - val_accuracy: 0.9607\n",
      "Epoch 9/60\n",
      "1688/1688 [==============================] - 15s 9ms/step - loss: 0.1260 - accuracy: 0.9641 - val_loss: 0.1315 - val_accuracy: 0.9648\n",
      "Epoch 10/60\n",
      "1688/1688 [==============================] - 15s 9ms/step - loss: 0.1157 - accuracy: 0.9673 - val_loss: 0.1273 - val_accuracy: 0.9637\n",
      "Epoch 11/60\n",
      "1688/1688 [==============================] - 15s 9ms/step - loss: 0.1066 - accuracy: 0.9698 - val_loss: 0.1158 - val_accuracy: 0.9677\n",
      "Epoch 12/60\n",
      "1688/1688 [==============================] - 12s 7ms/step - loss: 0.0991 - accuracy: 0.9721 - val_loss: 0.1118 - val_accuracy: 0.9698\n",
      "Epoch 13/60\n",
      "1688/1688 [==============================] - 14s 8ms/step - loss: 0.0917 - accuracy: 0.9747 - val_loss: 0.1057 - val_accuracy: 0.9710\n",
      "Epoch 14/60\n",
      "1688/1688 [==============================] - 13s 8ms/step - loss: 0.0857 - accuracy: 0.9765 - val_loss: 0.1005 - val_accuracy: 0.9720\n",
      "Epoch 15/60\n",
      "1688/1688 [==============================] - 13s 7ms/step - loss: 0.0801 - accuracy: 0.9777 - val_loss: 0.0991 - val_accuracy: 0.9727\n",
      "Epoch 16/60\n",
      "1688/1688 [==============================] - 13s 8ms/step - loss: 0.0751 - accuracy: 0.9794 - val_loss: 0.0944 - val_accuracy: 0.9728\n",
      "Epoch 17/60\n",
      "1688/1688 [==============================] - 11s 7ms/step - loss: 0.0706 - accuracy: 0.9809 - val_loss: 0.0934 - val_accuracy: 0.9728\n",
      "Epoch 18/60\n",
      "1688/1688 [==============================] - 12s 7ms/step - loss: 0.0659 - accuracy: 0.9818 - val_loss: 0.0894 - val_accuracy: 0.9753\n",
      "Epoch 19/60\n",
      "1688/1688 [==============================] - 15s 9ms/step - loss: 0.0624 - accuracy: 0.9829 - val_loss: 0.0893 - val_accuracy: 0.9738\n",
      "Epoch 20/60\n",
      "1688/1688 [==============================] - 14s 8ms/step - loss: 0.0587 - accuracy: 0.9841 - val_loss: 0.0873 - val_accuracy: 0.9752\n",
      "Epoch 21/60\n",
      "1688/1688 [==============================] - 15s 9ms/step - loss: 0.0555 - accuracy: 0.9852 - val_loss: 0.0864 - val_accuracy: 0.9757\n",
      "Epoch 22/60\n",
      "1688/1688 [==============================] - 14s 9ms/step - loss: 0.0525 - accuracy: 0.9859 - val_loss: 0.0838 - val_accuracy: 0.9760\n",
      "Epoch 23/60\n",
      "1688/1688 [==============================] - 15s 9ms/step - loss: 0.0496 - accuracy: 0.9865 - val_loss: 0.0830 - val_accuracy: 0.9763\n",
      "Epoch 24/60\n",
      "1688/1688 [==============================] - 14s 9ms/step - loss: 0.0468 - accuracy: 0.9873 - val_loss: 0.0824 - val_accuracy: 0.9757\n",
      "Epoch 25/60\n",
      "1688/1688 [==============================] - 12s 7ms/step - loss: 0.0443 - accuracy: 0.9884 - val_loss: 0.0833 - val_accuracy: 0.9747\n",
      "Epoch 26/60\n",
      "1688/1688 [==============================] - 15s 9ms/step - loss: 0.0420 - accuracy: 0.9888 - val_loss: 0.0811 - val_accuracy: 0.9765\n",
      "Epoch 27/60\n",
      "1688/1688 [==============================] - 15s 9ms/step - loss: 0.0398 - accuracy: 0.9892 - val_loss: 0.0772 - val_accuracy: 0.9782\n",
      "Epoch 28/60\n",
      "1688/1688 [==============================] - 12s 7ms/step - loss: 0.0378 - accuracy: 0.9902 - val_loss: 0.0772 - val_accuracy: 0.9772\n",
      "Epoch 29/60\n",
      "1688/1688 [==============================] - 14s 8ms/step - loss: 0.0358 - accuracy: 0.9907 - val_loss: 0.0760 - val_accuracy: 0.9780\n",
      "Epoch 30/60\n",
      "1688/1688 [==============================] - 14s 8ms/step - loss: 0.0338 - accuracy: 0.9916 - val_loss: 0.0786 - val_accuracy: 0.9767\n",
      "Epoch 31/60\n",
      "1688/1688 [==============================] - 15s 9ms/step - loss: 0.0322 - accuracy: 0.9919 - val_loss: 0.0753 - val_accuracy: 0.9778\n",
      "Epoch 32/60\n",
      "1688/1688 [==============================] - 15s 9ms/step - loss: 0.0304 - accuracy: 0.9927 - val_loss: 0.0773 - val_accuracy: 0.9777\n",
      "Epoch 33/60\n",
      "1688/1688 [==============================] - 13s 7ms/step - loss: 0.0289 - accuracy: 0.9931 - val_loss: 0.0765 - val_accuracy: 0.9780\n",
      "Epoch 34/60\n",
      "1688/1688 [==============================] - 14s 9ms/step - loss: 0.0274 - accuracy: 0.9938 - val_loss: 0.0764 - val_accuracy: 0.9778\n",
      "Epoch 35/60\n",
      "1688/1688 [==============================] - 15s 9ms/step - loss: 0.0260 - accuracy: 0.9942 - val_loss: 0.0749 - val_accuracy: 0.9788\n",
      "Epoch 36/60\n",
      "1688/1688 [==============================] - 11s 7ms/step - loss: 0.0246 - accuracy: 0.9947 - val_loss: 0.0798 - val_accuracy: 0.9767\n",
      "Epoch 37/60\n",
      "1688/1688 [==============================] - 11s 7ms/step - loss: 0.0236 - accuracy: 0.9944 - val_loss: 0.0755 - val_accuracy: 0.9777\n",
      "Epoch 38/60\n",
      "1688/1688 [==============================] - 14s 8ms/step - loss: 0.0223 - accuracy: 0.9954 - val_loss: 0.0760 - val_accuracy: 0.9778\n",
      "Epoch 39/60\n",
      "1688/1688 [==============================] - 14s 8ms/step - loss: 0.0212 - accuracy: 0.9959 - val_loss: 0.0752 - val_accuracy: 0.9782\n",
      "Epoch 40/60\n",
      "1688/1688 [==============================] - 14s 8ms/step - loss: 0.0202 - accuracy: 0.9961 - val_loss: 0.0758 - val_accuracy: 0.9778\n",
      "Epoch 41/60\n",
      "1688/1688 [==============================] - 13s 8ms/step - loss: 0.0191 - accuracy: 0.9968 - val_loss: 0.0755 - val_accuracy: 0.9780\n",
      "Epoch 42/60\n",
      "1688/1688 [==============================] - 12s 7ms/step - loss: 0.0182 - accuracy: 0.9969 - val_loss: 0.0771 - val_accuracy: 0.9772\n",
      "Epoch 43/60\n",
      "1688/1688 [==============================] - 14s 8ms/step - loss: 0.0174 - accuracy: 0.9970 - val_loss: 0.0825 - val_accuracy: 0.9763\n",
      "Epoch 44/60\n",
      "1688/1688 [==============================] - 14s 8ms/step - loss: 0.0166 - accuracy: 0.9973 - val_loss: 0.0758 - val_accuracy: 0.9783\n",
      "Epoch 45/60\n",
      "1688/1688 [==============================] - 14s 8ms/step - loss: 0.0157 - accuracy: 0.9977 - val_loss: 0.0758 - val_accuracy: 0.9777\n",
      "Epoch 46/60\n",
      "1688/1688 [==============================] - 15s 9ms/step - loss: 0.0150 - accuracy: 0.9979 - val_loss: 0.0764 - val_accuracy: 0.9778\n",
      "Epoch 47/60\n",
      "1688/1688 [==============================] - 15s 9ms/step - loss: 0.0143 - accuracy: 0.9980 - val_loss: 0.0771 - val_accuracy: 0.9777\n",
      "Epoch 48/60\n",
      "1688/1688 [==============================] - 14s 8ms/step - loss: 0.0137 - accuracy: 0.9984 - val_loss: 0.0773 - val_accuracy: 0.9765\n",
      "Epoch 49/60\n",
      "1688/1688 [==============================] - 12s 7ms/step - loss: 0.0130 - accuracy: 0.9982 - val_loss: 0.0779 - val_accuracy: 0.9775\n",
      "Epoch 50/60\n",
      "1688/1688 [==============================] - 14s 8ms/step - loss: 0.0124 - accuracy: 0.9986 - val_loss: 0.0792 - val_accuracy: 0.9772\n",
      "Epoch 51/60\n",
      "1688/1688 [==============================] - 14s 9ms/step - loss: 0.0119 - accuracy: 0.9986 - val_loss: 0.0772 - val_accuracy: 0.9775\n",
      "Epoch 52/60\n",
      "1688/1688 [==============================] - 14s 8ms/step - loss: 0.0114 - accuracy: 0.9987 - val_loss: 0.0766 - val_accuracy: 0.9778\n",
      "Epoch 53/60\n",
      "1688/1688 [==============================] - 14s 8ms/step - loss: 0.0109 - accuracy: 0.9989 - val_loss: 0.0783 - val_accuracy: 0.9778\n",
      "Epoch 54/60\n",
      "1688/1688 [==============================] - 13s 8ms/step - loss: 0.0105 - accuracy: 0.9989 - val_loss: 0.0767 - val_accuracy: 0.9787\n",
      "Epoch 55/60\n",
      "1688/1688 [==============================] - 10s 6ms/step - loss: 0.0100 - accuracy: 0.9991 - val_loss: 0.0784 - val_accuracy: 0.9775\n",
      "Epoch 56/60\n",
      "1688/1688 [==============================] - 13s 7ms/step - loss: 0.0095 - accuracy: 0.9991 - val_loss: 0.0792 - val_accuracy: 0.9782\n",
      "Epoch 57/60\n",
      "1688/1688 [==============================] - 14s 8ms/step - loss: 0.0091 - accuracy: 0.9993 - val_loss: 0.0796 - val_accuracy: 0.9775\n",
      "Epoch 58/60\n",
      "1688/1688 [==============================] - 15s 9ms/step - loss: 0.0088 - accuracy: 0.9992 - val_loss: 0.0778 - val_accuracy: 0.9782\n",
      "Epoch 59/60\n",
      "1688/1688 [==============================] - 14s 8ms/step - loss: 0.0085 - accuracy: 0.9994 - val_loss: 0.0803 - val_accuracy: 0.9768\n",
      "Epoch 60/60\n",
      "1688/1688 [==============================] - 15s 9ms/step - loss: 0.0081 - accuracy: 0.9993 - val_loss: 0.0808 - val_accuracy: 0.9773\n"
     ]
    }
   ],
   "source": [
    "model_history=model.fit(x_train,y_train,epochs=60,\n",
    "                       validation_data=(x_valid,y_valid))"
   ]
  },
  {
   "cell_type": "code",
   "execution_count": 28,
   "id": "17bfb29e",
   "metadata": {},
   "outputs": [
    {
     "data": {
      "text/plain": [
       "{'verbose': 1, 'epochs': 60, 'steps': 1688}"
      ]
     },
     "execution_count": 28,
     "metadata": {},
     "output_type": "execute_result"
    }
   ],
   "source": [
    "model_history.params"
   ]
  },
  {
   "cell_type": "code",
   "execution_count": 29,
   "id": "c52295ac",
   "metadata": {},
   "outputs": [
    {
     "data": {
      "text/plain": [
       "{'loss': [0.6606810092926025,\n",
       "  0.30064913630485535,\n",
       "  0.24879589676856995,\n",
       "  0.21510885655879974,\n",
       "  0.18928806483745575,\n",
       "  0.16899922490119934,\n",
       "  0.15212321281433105,\n",
       "  0.13783954083919525,\n",
       "  0.1260283887386322,\n",
       "  0.11573788523674011,\n",
       "  0.1066279262304306,\n",
       "  0.09908407181501389,\n",
       "  0.09169009327888489,\n",
       "  0.08565644174814224,\n",
       "  0.08013340085744858,\n",
       "  0.07514198869466782,\n",
       "  0.07064294070005417,\n",
       "  0.06588234752416611,\n",
       "  0.062411118298769,\n",
       "  0.05872119963169098,\n",
       "  0.05549013987183571,\n",
       "  0.05245056748390198,\n",
       "  0.04955599084496498,\n",
       "  0.04679280146956444,\n",
       "  0.04426787793636322,\n",
       "  0.04201805219054222,\n",
       "  0.0397978350520134,\n",
       "  0.037791430950164795,\n",
       "  0.035778675228357315,\n",
       "  0.03384847193956375,\n",
       "  0.03216734156012535,\n",
       "  0.030367901548743248,\n",
       "  0.028944173827767372,\n",
       "  0.027387915179133415,\n",
       "  0.025983018800616264,\n",
       "  0.02462572418153286,\n",
       "  0.0236499160528183,\n",
       "  0.02230069786310196,\n",
       "  0.021171364933252335,\n",
       "  0.02018600143492222,\n",
       "  0.019100278615951538,\n",
       "  0.01824617013335228,\n",
       "  0.017370201647281647,\n",
       "  0.016604866832494736,\n",
       "  0.01570991426706314,\n",
       "  0.015025715343654156,\n",
       "  0.014280383475124836,\n",
       "  0.013668711297214031,\n",
       "  0.013014402240514755,\n",
       "  0.012406867928802967,\n",
       "  0.011928331106901169,\n",
       "  0.011356545612215996,\n",
       "  0.010904156602919102,\n",
       "  0.010476015508174896,\n",
       "  0.009998193942010403,\n",
       "  0.009495520032942295,\n",
       "  0.009091665968298912,\n",
       "  0.008815869688987732,\n",
       "  0.008456318639218807,\n",
       "  0.008073772303760052],\n",
       " 'accuracy': [0.8267222046852112,\n",
       "  0.9140740633010864,\n",
       "  0.929277777671814,\n",
       "  0.9389814734458923,\n",
       "  0.9461851716041565,\n",
       "  0.9516481757164001,\n",
       "  0.9569814801216125,\n",
       "  0.9611111283302307,\n",
       "  0.964129626750946,\n",
       "  0.9673148393630981,\n",
       "  0.9697777628898621,\n",
       "  0.9721296429634094,\n",
       "  0.9746666550636292,\n",
       "  0.9764999747276306,\n",
       "  0.9776666760444641,\n",
       "  0.9794259071350098,\n",
       "  0.9808518290519714,\n",
       "  0.9817777872085571,\n",
       "  0.9829444289207458,\n",
       "  0.984074056148529,\n",
       "  0.9851666688919067,\n",
       "  0.9859259128570557,\n",
       "  0.9864814877510071,\n",
       "  0.9873148202896118,\n",
       "  0.9883518815040588,\n",
       "  0.988777756690979,\n",
       "  0.9892407655715942,\n",
       "  0.9902222156524658,\n",
       "  0.9906851649284363,\n",
       "  0.9915555715560913,\n",
       "  0.9918888807296753,\n",
       "  0.9927036762237549,\n",
       "  0.9930925965309143,\n",
       "  0.993759274482727,\n",
       "  0.9942222237586975,\n",
       "  0.9946666955947876,\n",
       "  0.9944259524345398,\n",
       "  0.9954074025154114,\n",
       "  0.9959074258804321,\n",
       "  0.9960926175117493,\n",
       "  0.9967592358589172,\n",
       "  0.9968888759613037,\n",
       "  0.9969815015792847,\n",
       "  0.9972962737083435,\n",
       "  0.9976666569709778,\n",
       "  0.9978888630867004,\n",
       "  0.9979814887046814,\n",
       "  0.9983518719673157,\n",
       "  0.9981851577758789,\n",
       "  0.9986110925674438,\n",
       "  0.9985555410385132,\n",
       "  0.9987221956253052,\n",
       "  0.9988518357276917,\n",
       "  0.9989259243011475,\n",
       "  0.9990555644035339,\n",
       "  0.9991111159324646,\n",
       "  0.9992592334747314,\n",
       "  0.9992222189903259,\n",
       "  0.9993518590927124,\n",
       "  0.9993333220481873],\n",
       " 'val_loss': [0.32164785265922546,\n",
       "  0.2585417926311493,\n",
       "  0.22539642453193665,\n",
       "  0.19609934091567993,\n",
       "  0.17897818982601166,\n",
       "  0.1637689471244812,\n",
       "  0.14826799929141998,\n",
       "  0.14164088666439056,\n",
       "  0.13150160014629364,\n",
       "  0.12734922766685486,\n",
       "  0.1157553493976593,\n",
       "  0.11182212084531784,\n",
       "  0.10568142682313919,\n",
       "  0.10050718486309052,\n",
       "  0.09905443340539932,\n",
       "  0.09440705180168152,\n",
       "  0.09344367682933807,\n",
       "  0.08936148881912231,\n",
       "  0.08930017054080963,\n",
       "  0.08731169998645782,\n",
       "  0.08644388616085052,\n",
       "  0.08375579118728638,\n",
       "  0.0830368846654892,\n",
       "  0.08241104334592819,\n",
       "  0.0832550972700119,\n",
       "  0.08113833516836166,\n",
       "  0.07721196860074997,\n",
       "  0.07719562947750092,\n",
       "  0.07603193819522858,\n",
       "  0.07861422002315521,\n",
       "  0.07534626126289368,\n",
       "  0.07733192294836044,\n",
       "  0.07654361426830292,\n",
       "  0.07638449966907501,\n",
       "  0.07494903355836868,\n",
       "  0.07979419827461243,\n",
       "  0.07553260028362274,\n",
       "  0.07604210078716278,\n",
       "  0.07522750645875931,\n",
       "  0.07575612515211105,\n",
       "  0.07552797347307205,\n",
       "  0.07706689089536667,\n",
       "  0.0824609026312828,\n",
       "  0.07580700516700745,\n",
       "  0.07581107318401337,\n",
       "  0.07636571675539017,\n",
       "  0.07709789276123047,\n",
       "  0.0772523581981659,\n",
       "  0.07787133008241653,\n",
       "  0.07920320332050323,\n",
       "  0.07720518857240677,\n",
       "  0.07662618160247803,\n",
       "  0.0782557874917984,\n",
       "  0.07665851712226868,\n",
       "  0.07842090725898743,\n",
       "  0.07916928082704544,\n",
       "  0.0796368271112442,\n",
       "  0.07778612524271011,\n",
       "  0.0802997350692749,\n",
       "  0.08080116659402847],\n",
       " 'val_accuracy': [0.9125000238418579,\n",
       "  0.9283333420753479,\n",
       "  0.9384999871253967,\n",
       "  0.9441666603088379,\n",
       "  0.9484999775886536,\n",
       "  0.9524999856948853,\n",
       "  0.9588333368301392,\n",
       "  0.9606666564941406,\n",
       "  0.9648333191871643,\n",
       "  0.9636666774749756,\n",
       "  0.9676666855812073,\n",
       "  0.9698333144187927,\n",
       "  0.9710000157356262,\n",
       "  0.972000002861023,\n",
       "  0.9726666808128357,\n",
       "  0.9728333353996277,\n",
       "  0.9728333353996277,\n",
       "  0.9753333330154419,\n",
       "  0.9738333225250244,\n",
       "  0.9751666784286499,\n",
       "  0.9756666421890259,\n",
       "  0.9760000109672546,\n",
       "  0.9763333201408386,\n",
       "  0.9756666421890259,\n",
       "  0.9746666550636292,\n",
       "  0.9764999747276306,\n",
       "  0.9781666398048401,\n",
       "  0.9771666526794434,\n",
       "  0.9779999852180481,\n",
       "  0.9766666889190674,\n",
       "  0.9778333306312561,\n",
       "  0.9776666760444641,\n",
       "  0.9779999852180481,\n",
       "  0.9778333306312561,\n",
       "  0.9788333177566528,\n",
       "  0.9766666889190674,\n",
       "  0.9776666760444641,\n",
       "  0.9778333306312561,\n",
       "  0.9781666398048401,\n",
       "  0.9778333306312561,\n",
       "  0.9779999852180481,\n",
       "  0.9771666526794434,\n",
       "  0.9763333201408386,\n",
       "  0.9783333539962769,\n",
       "  0.9776666760444641,\n",
       "  0.9778333306312561,\n",
       "  0.9776666760444641,\n",
       "  0.9764999747276306,\n",
       "  0.9775000214576721,\n",
       "  0.9771666526794434,\n",
       "  0.9775000214576721,\n",
       "  0.9778333306312561,\n",
       "  0.9778333306312561,\n",
       "  0.9786666631698608,\n",
       "  0.9775000214576721,\n",
       "  0.9781666398048401,\n",
       "  0.9775000214576721,\n",
       "  0.9781666398048401,\n",
       "  0.9768333435058594,\n",
       "  0.9773333072662354]}"
      ]
     },
     "execution_count": 29,
     "metadata": {},
     "output_type": "execute_result"
    }
   ],
   "source": [
    "model_history.history"
   ]
  },
  {
   "cell_type": "code",
   "execution_count": 30,
   "id": "886752e1",
   "metadata": {},
   "outputs": [
    {
     "data": {
      "image/png": "[encoded data removed]",
      "text/plain": [
       "<Figure size 576x360 with 1 Axes>"
      ]
     },
     "metadata": {
      "needs_background": "light"
     },
     "output_type": "display_data"
    }
   ],
   "source": [
    "import pandas as pd \n",
    "pd.DataFrame(model_history.history).plot(figsize=(8,5))\n",
    "plt.grid(True)\n",
    "plt.gca().set_ylim(0,1)\n",
    "plt.show()"
   ]
  },
  {
   "cell_type": "code",
   "execution_count": 31,
   "id": "f761ca4e",
   "metadata": {},
   "outputs": [
    {
     "name": "stdout",
     "output_type": "stream",
     "text": [
      "1688/1688 [==============================] - 4s 2ms/step - loss: 0.0073 - accuracy: 0.9996\n"
     ]
    },
    {
     "data": {
      "text/plain": [
       "[0.007271654903888702, 0.9995740652084351]"
      ]
     },
     "execution_count": 31,
     "metadata": {},
     "output_type": "execute_result"
    }
   ],
   "source": [
    "model.evaluate(x_train,y_train)"
   ]
  },
  {
   "cell_type": "code",
   "execution_count": 32,
   "id": "4b4be0d2",
   "metadata": {},
   "outputs": [],
   "source": [
    "x_new=x_test[:5]"
   ]
  },
  {
   "cell_type": "code",
   "execution_count": 33,
   "id": "4c397e05",
   "metadata": {},
   "outputs": [
    {
     "name": "stdout",
     "output_type": "stream",
     "text": [
      "1/1 [==============================] - 0s 125ms/step\n"
     ]
    },
    {
     "data": {
      "text/plain": [
       "array([[0., 0., 0., 0., 0., 0., 0., 1., 0., 0.],\n",
       "       [0., 0., 1., 0., 0., 0., 0., 0., 0., 0.],\n",
       "       [0., 1., 0., 0., 0., 0., 0., 0., 0., 0.],\n",
       "       [1., 0., 0., 0., 0., 0., 0., 0., 0., 0.],\n",
       "       [0., 0., 0., 0., 1., 0., 0., 0., 0., 0.]], dtype=float32)"
      ]
     },
     "execution_count": 33,
     "metadata": {},
     "output_type": "execute_result"
    }
   ],
   "source": [
    "y_proba=model.predict(x_new)\n",
    "y_proba.round(2)"
   ]
  },
  {
   "cell_type": "code",
   "execution_count": 34,
   "id": "f6b72b60",
   "metadata": {},
   "outputs": [
    {
     "name": "stdout",
     "output_type": "stream",
     "text": [
      "1/1 [==============================] - 0s 35ms/step\n"
     ]
    },
    {
     "data": {
      "text/plain": [
       "array([7, 2, 1, 0, 4], dtype=int64)"
      ]
     },
     "execution_count": 34,
     "metadata": {},
     "output_type": "execute_result"
    }
   ],
   "source": [
    "y_pred=np.argmax(model.predict(x_new),axis=1)\n",
    "y_pred"
   ]
  },
  {
   "cell_type": "code",
   "execution_count": 35,
   "id": "2beda15c",
   "metadata": {},
   "outputs": [
    {
     "data": {
      "text/plain": [
       "array(['7', '2', '1', '0', '4'], dtype='<U1')"
      ]
     },
     "execution_count": 35,
     "metadata": {},
     "output_type": "execute_result"
    }
   ],
   "source": [
    "np.array(class_names)[y_pred]"
   ]
  },
  {
   "cell_type": "code",
   "execution_count": 36,
   "id": "d849d042",
   "metadata": {},
   "outputs": [
    {
     "name": "stdout",
     "output_type": "stream",
     "text": [
      "AxesImage(54,36;334.8x217.44)\n"
     ]
    },
    {
     "data": {
      "image/png": "[encoded data removed]",
      "text/plain": [
       "<Figure size 432x288 with 1 Axes>"
      ]
     },
     "metadata": {
      "needs_background": "light"
     },
     "output_type": "display_data"
    }
   ],
   "source": [
    "print(plt.imshow(x_test[0]))"
   ]
  },
  {
   "cell_type": "code",
   "execution_count": 37,
   "id": "ac8d5fee",
   "metadata": {},
   "outputs": [
    {
     "name": "stdout",
     "output_type": "stream",
     "text": [
      "AxesImage(54,36;334.8x217.44)\n"
     ]
    },
    {
     "data": {
      "image/png": "[encoded data removed]",
      "text/plain": [
       "<Figure size 432x288 with 1 Axes>"
      ]
     },
     "metadata": {
      "needs_background": "light"
     },
     "output_type": "display_data"
    }
   ],
   "source": [
    "print(plt.imshow(x_test[1]))"
   ]
  },
  {
   "cell_type": "code",
   "execution_count": 38,
   "id": "34946c66",
   "metadata": {},
   "outputs": [
    {
     "name": "stdout",
     "output_type": "stream",
     "text": [
      "AxesImage(54,36;334.8x217.44)\n"
     ]
    },
    {
     "data": {
      "image/png": "[encoded data removed]",
      "text/plain": [
       "<Figure size 432x288 with 1 Axes>"
      ]
     },
     "metadata": {
      "needs_background": "light"
     },
     "output_type": "display_data"
    }
   ],
   "source": [
    "print(plt.imshow(x_test[2]))"
   ]
  },
  {
   "cell_type": "code",
   "execution_count": 39,
   "id": "7816322d",
   "metadata": {},
   "outputs": [
    {
     "name": "stdout",
     "output_type": "stream",
     "text": [
      "AxesImage(54,36;334.8x217.44)\n"
     ]
    },
    {
     "data": {
      "image/png": "[encoded data removed]",
      "text/plain": [
       "<Figure size 432x288 with 1 Axes>"
      ]
     },
     "metadata": {
      "needs_background": "light"
     },
     "output_type": "display_data"
    }
   ],
   "source": [
    "print(plt.imshow(x_test[3]))"
   ]
  },
  {
   "cell_type": "code",
   "execution_count": 40,
   "id": "403ddf55",
   "metadata": {},
   "outputs": [
    {
     "name": "stdout",
     "output_type": "stream",
     "text": [
      "AxesImage(54,36;334.8x217.44)\n"
     ]
    },
    {
     "data": {
      "image/png": "[encoded data removed]",
      "text/plain": [
       "<Figure size 432x288 with 1 Axes>"
      ]
     },
     "metadata": {
      "needs_background": "light"
     },
     "output_type": "display_data"
    }
   ],
   "source": [
    "print(plt.imshow(x_test[4]))"
   ]
  },
  {
   "cell_type": "code",
   "execution_count": null,
   "id": "2cb0b066",
   "metadata": {},
   "outputs": [],
   "source": []
  }
 ],
 "metadata": {
  "kernelspec": {
   "display_name": "Python 3 (ipykernel)",
   "language": "python",
   "name": "python3"
  },
  "language_info": {
   "codemirror_mode": {
    "name": "ipython",
    "version": 3
   },
   "file_extension": ".py",
   "mimetype": "text/x-python",
   "name": "python",
   "nbconvert_exporter": "python",
   "pygments_lexer": "ipython3",
   "version": "3.9.12"
  }
 },
 "nbformat": 4,
 "nbformat_minor": 5
}
